{
 "cells": [
  {
   "cell_type": "code",
   "execution_count": null,
   "id": "66b68d70",
   "metadata": {},
   "outputs": [],
   "source": [
    "#4.Add a section header to your notebook for importing libraries."
   ]
  },
  {
   "cell_type": "markdown",
   "id": "2fc522b6",
   "metadata": {},
   "source": [
    "# 01.Importing Libraries"
   ]
  },
  {
   "cell_type": "code",
   "execution_count": null,
   "id": "8e6ead43",
   "metadata": {},
   "outputs": [],
   "source": [
    "#5.In the cell beneath the section header, import the pandas, NumPy, and os libraries. Ensure you include a comment in your code."
   ]
  },
  {
   "cell_type": "code",
   "execution_count": 5,
   "id": "d4b5753a",
   "metadata": {},
   "outputs": [],
   "source": [
    "# importing Libraries\n",
    "import pandas as pd\n",
    "import numpy as np\n",
    "import os"
   ]
  },
  {
   "cell_type": "code",
   "execution_count": null,
   "id": "cfc7d1c5",
   "metadata": {},
   "outputs": [],
   "source": [
    "#6.Add a second section header to your notebook for working with Python data types."
   ]
  },
  {
   "cell_type": "markdown",
   "id": "6b1d84eb",
   "metadata": {},
   "source": [
    "# 02. Python Data Types"
   ]
  },
  {
   "cell_type": "code",
   "execution_count": null,
   "id": "dd996fcb",
   "metadata": {},
   "outputs": [],
   "source": [
    "# 7.Code 3 different ways of reaching a result of 100 by adding or subtracting numeric variables."
   ]
  },
  {
   "cell_type": "code",
   "execution_count": 7,
   "id": "37060165",
   "metadata": {},
   "outputs": [],
   "source": [
    "x=75\n",
    "y=25"
   ]
  },
  {
   "cell_type": "code",
   "execution_count": 8,
   "id": "d79a2a2b",
   "metadata": {},
   "outputs": [
    {
     "name": "stdout",
     "output_type": "stream",
     "text": [
      "100\n"
     ]
    }
   ],
   "source": [
    "print(x+y)"
   ]
  },
  {
   "cell_type": "code",
   "execution_count": 9,
   "id": "df647c12",
   "metadata": {},
   "outputs": [],
   "source": [
    "a=150\n",
    "b=50"
   ]
  },
  {
   "cell_type": "code",
   "execution_count": 10,
   "id": "610c9d6d",
   "metadata": {},
   "outputs": [
    {
     "name": "stdout",
     "output_type": "stream",
     "text": [
      "100\n"
     ]
    }
   ],
   "source": [
    "print(a-b)"
   ]
  },
  {
   "cell_type": "code",
   "execution_count": 11,
   "id": "e3d101f6",
   "metadata": {},
   "outputs": [],
   "source": [
    "c=50\n",
    "d=2"
   ]
  },
  {
   "cell_type": "code",
   "execution_count": 12,
   "id": "1314f9ee",
   "metadata": {},
   "outputs": [
    {
     "name": "stdout",
     "output_type": "stream",
     "text": [
      "100\n"
     ]
    }
   ],
   "source": [
    "print(c*d)"
   ]
  },
  {
   "cell_type": "code",
   "execution_count": null,
   "id": "c50a0f36",
   "metadata": {},
   "outputs": [],
   "source": [
    "#8.Code 2 floating-point variables and divide them by each other."
   ]
  },
  {
   "cell_type": "code",
   "execution_count": 13,
   "id": "bb198c67",
   "metadata": {},
   "outputs": [],
   "source": [
    "e=2.167\n",
    "f=4.315"
   ]
  },
  {
   "cell_type": "code",
   "execution_count": 15,
   "id": "70fa6ced",
   "metadata": {},
   "outputs": [
    {
     "name": "stdout",
     "output_type": "stream",
     "text": [
      "0.5022016222479722\n"
     ]
    }
   ],
   "source": [
    "print(e/f)"
   ]
  },
  {
   "cell_type": "code",
   "execution_count": 16,
   "id": "70b60f5d",
   "metadata": {},
   "outputs": [],
   "source": [
    "g=5.678\n",
    "h=9.123"
   ]
  },
  {
   "cell_type": "code",
   "execution_count": 17,
   "id": "f8d50180",
   "metadata": {},
   "outputs": [
    {
     "name": "stdout",
     "output_type": "stream",
     "text": [
      "0.6223829880521758\n"
     ]
    }
   ],
   "source": [
    "print(g/h)"
   ]
  },
  {
   "cell_type": "code",
   "execution_count": null,
   "id": "21900c46",
   "metadata": {},
   "outputs": [],
   "source": [
    "#9.Construct a short word made of separate strings (you’ll need to concatenate some strings!)."
   ]
  },
  {
   "cell_type": "code",
   "execution_count": 20,
   "id": "615dc849",
   "metadata": {},
   "outputs": [],
   "source": [
    "i='Py'\n",
    "j='thon'"
   ]
  },
  {
   "cell_type": "code",
   "execution_count": 21,
   "id": "77c2ef98",
   "metadata": {},
   "outputs": [
    {
     "data": {
      "text/plain": [
       "'Python'"
      ]
     },
     "execution_count": 21,
     "metadata": {},
     "output_type": "execute_result"
    }
   ],
   "source": [
    "i+j"
   ]
  },
  {
   "cell_type": "code",
   "execution_count": null,
   "id": "e2ed0ecc",
   "metadata": {},
   "outputs": [],
   "source": [
    "#10.Construct 2 short sentences made of separate strings."
   ]
  },
  {
   "cell_type": "code",
   "execution_count": 24,
   "id": "2eb7f762",
   "metadata": {},
   "outputs": [],
   "source": [
    "k='My Name is:'\n",
    "l='Syed Abdul Rasheed'"
   ]
  },
  {
   "cell_type": "code",
   "execution_count": 25,
   "id": "da2bcf58",
   "metadata": {},
   "outputs": [
    {
     "name": "stdout",
     "output_type": "stream",
     "text": [
      "My Name is:Syed Abdul Rasheed\n"
     ]
    }
   ],
   "source": [
    "print(k+l)"
   ]
  },
  {
   "cell_type": "code",
   "execution_count": 26,
   "id": "f03f29d3",
   "metadata": {},
   "outputs": [],
   "source": [
    "m='Iam from:'\n",
    "n='India'"
   ]
  },
  {
   "cell_type": "code",
   "execution_count": 27,
   "id": "a1c0f919",
   "metadata": {},
   "outputs": [
    {
     "data": {
      "text/plain": [
       "'Iam from:India'"
      ]
     },
     "execution_count": 27,
     "metadata": {},
     "output_type": "execute_result"
    }
   ],
   "source": [
    "m+n"
   ]
  },
  {
   "cell_type": "code",
   "execution_count": null,
   "id": "f94663cb",
   "metadata": {},
   "outputs": [],
   "source": [
    "#11.Save your Jupyter file by clicking on the Save icon highlighted below:\n",
    "#done"
   ]
  },
  {
   "cell_type": "code",
   "execution_count": null,
   "id": "3abd2510",
   "metadata": {},
   "outputs": [],
   "source": [
    "#12. Locate your project folder on your device, compress it as a zip file (right-click the folder and select Add to Archive), then submit the zip file for your tutor to review."
   ]
  },
  {
   "cell_type": "code",
   "execution_count": null,
   "id": "23b179b2",
   "metadata": {},
   "outputs": [],
   "source": [
    "#done"
   ]
  },
  {
   "cell_type": "code",
   "execution_count": 28,
   "id": "cb9e7765",
   "metadata": {},
   "outputs": [],
   "source": [
    "# Bonus\n",
    "# At the bottom of your file, include a command that makes a string appear 100 times.\n"
   ]
  },
  {
   "cell_type": "code",
   "execution_count": 32,
   "id": "1003b265",
   "metadata": {},
   "outputs": [],
   "source": [
    "o='Apple-'"
   ]
  },
  {
   "cell_type": "code",
   "execution_count": 33,
   "id": "27bd83ca",
   "metadata": {},
   "outputs": [
    {
     "data": {
      "text/plain": [
       "'Apple-Apple-Apple-Apple-Apple-Apple-Apple-Apple-Apple-Apple-Apple-Apple-Apple-Apple-Apple-Apple-Apple-Apple-Apple-Apple-Apple-Apple-Apple-Apple-Apple-Apple-Apple-Apple-Apple-Apple-Apple-Apple-Apple-Apple-Apple-Apple-Apple-Apple-Apple-Apple-Apple-Apple-Apple-Apple-Apple-Apple-Apple-Apple-Apple-Apple-Apple-Apple-Apple-Apple-Apple-Apple-Apple-Apple-Apple-Apple-Apple-Apple-Apple-Apple-Apple-Apple-Apple-Apple-Apple-Apple-Apple-Apple-Apple-Apple-Apple-Apple-Apple-Apple-Apple-Apple-Apple-Apple-Apple-Apple-Apple-Apple-Apple-Apple-Apple-Apple-Apple-Apple-Apple-Apple-Apple-Apple-Apple-Apple-Apple-Apple-'"
      ]
     },
     "execution_count": 33,
     "metadata": {},
     "output_type": "execute_result"
    }
   ],
   "source": [
    "o*100"
   ]
  },
  {
   "cell_type": "code",
   "execution_count": null,
   "id": "f79938ab",
   "metadata": {},
   "outputs": [],
   "source": []
  },
  {
   "cell_type": "code",
   "execution_count": null,
   "id": "632e3140",
   "metadata": {},
   "outputs": [],
   "source": []
  }
 ],
 "metadata": {
  "kernelspec": {
   "display_name": "Python 3 (ipykernel)",
   "language": "python",
   "name": "python3"
  },
  "language_info": {
   "codemirror_mode": {
    "name": "ipython",
    "version": 3
   },
   "file_extension": ".py",
   "mimetype": "text/x-python",
   "name": "python",
   "nbconvert_exporter": "python",
   "pygments_lexer": "ipython3",
   "version": "3.8.8"
  }
 },
 "nbformat": 4,
 "nbformat_minor": 5
}
