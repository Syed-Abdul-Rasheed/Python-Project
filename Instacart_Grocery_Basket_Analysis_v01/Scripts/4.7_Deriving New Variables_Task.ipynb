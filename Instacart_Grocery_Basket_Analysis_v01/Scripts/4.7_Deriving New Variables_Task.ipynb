{
 "cells": [
  {
   "cell_type": "code",
   "execution_count": 4,
   "id": "58e1d608",
   "metadata": {},
   "outputs": [],
   "source": [
    "# import Libraries\n",
    "import pandas as pd\n",
    "import numpy as np\n",
    "import os"
   ]
  },
  {
   "cell_type": "markdown",
   "id": "f57b5124",
   "metadata": {},
   "source": [
    "#1.If you haven’t done so already, complete the instructions in the Exercise for creating the “price_label” and “busiest_day” columns."
   ]
  },
  {
   "cell_type": "markdown",
   "id": "f13d1cf8",
   "metadata": {},
   "source": [
    "### Done."
   ]
  },
  {
   "cell_type": "code",
   "execution_count": 5,
   "id": "d7ce3dd4",
   "metadata": {},
   "outputs": [],
   "source": [
    "path=r\"C:\\Users\\abdul\\Career-Foundry-Assignment4-Instacart-Basket-Analysis\""
   ]
  },
  {
   "cell_type": "code",
   "execution_count": 6,
   "id": "3a0e5278",
   "metadata": {},
   "outputs": [
    {
     "ename": "MemoryError",
     "evalue": "",
     "output_type": "error",
     "traceback": [
      "\u001b[1;31m---------------------------------------------------------------------------\u001b[0m",
      "\u001b[1;31mMemoryError\u001b[0m                               Traceback (most recent call last)",
      "\u001b[1;32m~\\AppData\\Local\\Temp/ipykernel_14704/1742650702.py\u001b[0m in \u001b[0;36m<module>\u001b[1;34m\u001b[0m\n\u001b[1;32m----> 1\u001b[1;33m \u001b[0morders_products_merged\u001b[0m\u001b[1;33m=\u001b[0m\u001b[0mpd\u001b[0m\u001b[1;33m.\u001b[0m\u001b[0mread_pickle\u001b[0m\u001b[1;33m(\u001b[0m\u001b[0mos\u001b[0m\u001b[1;33m.\u001b[0m\u001b[0mpath\u001b[0m\u001b[1;33m.\u001b[0m\u001b[0mjoin\u001b[0m\u001b[1;33m(\u001b[0m\u001b[0mpath\u001b[0m\u001b[1;33m,\u001b[0m \u001b[1;34m'02_Data'\u001b[0m\u001b[1;33m,\u001b[0m\u001b[1;34m'Prepared-Data'\u001b[0m\u001b[1;33m,\u001b[0m\u001b[1;34m'orders_products_merged.pkl'\u001b[0m\u001b[1;33m)\u001b[0m\u001b[1;33m)\u001b[0m\u001b[1;33m\u001b[0m\u001b[1;33m\u001b[0m\u001b[0m\n\u001b[0m",
      "\u001b[1;32m~\\anaconda3\\lib\\site-packages\\pandas\\io\\pickle.py\u001b[0m in \u001b[0;36mread_pickle\u001b[1;34m(filepath_or_buffer, compression, storage_options)\u001b[0m\n\u001b[0;32m    203\u001b[0m                     \u001b[1;31m# We want to silence any warnings about, e.g. moved modules.\u001b[0m\u001b[1;33m\u001b[0m\u001b[1;33m\u001b[0m\u001b[1;33m\u001b[0m\u001b[0m\n\u001b[0;32m    204\u001b[0m                     \u001b[0mwarnings\u001b[0m\u001b[1;33m.\u001b[0m\u001b[0msimplefilter\u001b[0m\u001b[1;33m(\u001b[0m\u001b[1;34m\"ignore\"\u001b[0m\u001b[1;33m,\u001b[0m \u001b[0mWarning\u001b[0m\u001b[1;33m)\u001b[0m\u001b[1;33m\u001b[0m\u001b[1;33m\u001b[0m\u001b[0m\n\u001b[1;32m--> 205\u001b[1;33m                     \u001b[1;32mreturn\u001b[0m \u001b[0mpickle\u001b[0m\u001b[1;33m.\u001b[0m\u001b[0mload\u001b[0m\u001b[1;33m(\u001b[0m\u001b[0mhandles\u001b[0m\u001b[1;33m.\u001b[0m\u001b[0mhandle\u001b[0m\u001b[1;33m)\u001b[0m\u001b[1;33m\u001b[0m\u001b[1;33m\u001b[0m\u001b[0m\n\u001b[0m\u001b[0;32m    206\u001b[0m             \u001b[1;32mexcept\u001b[0m \u001b[0mexcs_to_catch\u001b[0m\u001b[1;33m:\u001b[0m\u001b[1;33m\u001b[0m\u001b[1;33m\u001b[0m\u001b[0m\n\u001b[0;32m    207\u001b[0m                 \u001b[1;31m# e.g.\u001b[0m\u001b[1;33m\u001b[0m\u001b[1;33m\u001b[0m\u001b[1;33m\u001b[0m\u001b[0m\n",
      "\u001b[1;31mMemoryError\u001b[0m: "
     ]
    }
   ],
   "source": [
    "orders_products_merged=pd.read_pickle(os.path.join(path, '02_Data','Prepared-Data','orders_products_merged.pkl'))"
   ]
  },
  {
   "cell_type": "code",
   "execution_count": null,
   "id": "19f17764",
   "metadata": {},
   "outputs": [],
   "source": [
    "orders_products_merged.head()"
   ]
  },
  {
   "cell_type": "code",
   "execution_count": null,
   "id": "7d23c4bc",
   "metadata": {},
   "outputs": [],
   "source": [
    "orders_products_merged=orders_products_merged.drop(columns=['_merge'])"
   ]
  },
  {
   "cell_type": "markdown",
   "id": "d4f6353d",
   "metadata": {},
   "source": [
    "#2.Suppose your clients have changed their minds about the labels you created in your “busiest_day” column. Now, they want “Busiest day” to become “Busiest days” (plural). This label should correspond with the two busiest days of the week as opposed to the single busiest day. At the same time, they’d also like to know the two slowest days. Create a new column for this using a suitable method."
   ]
  },
  {
   "cell_type": "code",
   "execution_count": null,
   "id": "dcbdc2c9",
   "metadata": {},
   "outputs": [],
   "source": [
    "orders_products_merged['order_dow'].value_counts()"
   ]
  },
  {
   "cell_type": "code",
   "execution_count": null,
   "id": "483079ab",
   "metadata": {},
   "outputs": [],
   "source": [
    "result=[]\n",
    "for value in orders_products_merged['order_dow']:\n",
    "    if value==0 or value==1:\n",
    "        result.append('Busiest Days')\n",
    "    elif value==3 or value==4:\n",
    "        result.append('Least Busy Days')\n",
    "    else:\n",
    "        result.append('Regularly Busy Days')"
   ]
  },
  {
   "cell_type": "code",
   "execution_count": null,
   "id": "359f4931",
   "metadata": {},
   "outputs": [],
   "source": [
    "result"
   ]
  },
  {
   "cell_type": "code",
   "execution_count": null,
   "id": "27f221f5",
   "metadata": {},
   "outputs": [],
   "source": [
    "orders_products_merged['Busiest days']=result"
   ]
  },
  {
   "cell_type": "code",
   "execution_count": null,
   "id": "4350c2fd",
   "metadata": {},
   "outputs": [],
   "source": [
    "orders_products_merged.tail()"
   ]
  },
  {
   "cell_type": "markdown",
   "id": "61571746",
   "metadata": {},
   "source": [
    "#3.Check the values of this new column for accuracy. Note any observations in markdown format."
   ]
  },
  {
   "cell_type": "code",
   "execution_count": null,
   "id": "53afdc7a",
   "metadata": {},
   "outputs": [],
   "source": [
    "orders_products_merged['Busiest days'].value_counts()"
   ]
  },
  {
   "cell_type": "markdown",
   "id": "2a700d62",
   "metadata": {},
   "source": [
    "#4.When too many users make Instacart orders at the same time, the app freezes. The senior technical officer at Instacart wants you to identify the busiest hours of the day. Rather than by hour, they want periods of time labeled “Most orders,” “Average orders,” and “Fewest orders.” Create a new column containing these labels called “busiest_period_of_day.”"
   ]
  },
  {
   "cell_type": "code",
   "execution_count": null,
   "id": "73ceedd2",
   "metadata": {},
   "outputs": [],
   "source": [
    "orders_products_merged['order_hour_of_day'].value_counts()"
   ]
  },
  {
   "cell_type": "code",
   "execution_count": null,
   "id": "c827d7f2",
   "metadata": {},
   "outputs": [],
   "source": [
    "import matplotlib.pyplot as plt\n",
    "import seaborn as sns\n",
    "import scipy"
   ]
  },
  {
   "cell_type": "code",
   "execution_count": null,
   "id": "0c31e3bb",
   "metadata": {},
   "outputs": [],
   "source": [
    "orders_products_merged['order_hour_of_day'].value_counts().plot.bar()"
   ]
  },
  {
   "cell_type": "markdown",
   "id": "74b97633",
   "metadata": {},
   "source": [
    "### The above graph suggest that 0-6 hours are the 'least orders' , 9-16 hours are the 'Most Orders' and Remaining are the 'Average Orders'"
   ]
  },
  {
   "cell_type": "code",
   "execution_count": null,
   "id": "f248bb19",
   "metadata": {},
   "outputs": [],
   "source": [
    "result2=[]\n",
    "for value in orders_products_merged['order_hour_of_day']:\n",
    "    if value>=9 and value<=16:\n",
    "        result2.append('Most Orders')\n",
    "    elif value>=0 and value<=6:\n",
    "        result2.append('Least Orders')\n",
    "    else:\n",
    "        result2.append('Average Orders')"
   ]
  },
  {
   "cell_type": "code",
   "execution_count": null,
   "id": "2f02a249",
   "metadata": {},
   "outputs": [],
   "source": [
    "orders_products_merged['busiest_period_of_day']=result2"
   ]
  },
  {
   "cell_type": "code",
   "execution_count": null,
   "id": "19dda34e",
   "metadata": {},
   "outputs": [],
   "source": [
    "orders_products_merged.head(5)"
   ]
  },
  {
   "cell_type": "markdown",
   "id": "225e550c",
   "metadata": {},
   "source": [
    "#5.Print the frequency for this new column."
   ]
  },
  {
   "cell_type": "code",
   "execution_count": null,
   "id": "fe665653",
   "metadata": {},
   "outputs": [],
   "source": [
    "orders_products_merged['busiest_period_of_day'].value_counts()"
   ]
  },
  {
   "cell_type": "markdown",
   "id": "be9ca1d8",
   "metadata": {},
   "source": [
    "#6.Ensure your notebook is clean and structured and that your code is well commented."
   ]
  },
  {
   "cell_type": "markdown",
   "id": "060ca994",
   "metadata": {},
   "source": [
    "#### Done"
   ]
  },
  {
   "cell_type": "markdown",
   "id": "97b50ff4",
   "metadata": {},
   "source": [
    "#7. Export your dataframe as a pickle file (since you added new columns) and store it correctly in your “Prepared Data” folder."
   ]
  },
  {
   "cell_type": "code",
   "execution_count": null,
   "id": "a8c06f3e",
   "metadata": {},
   "outputs": [],
   "source": [
    "orders_products_merged.to_pickle(os.path.join(path,'02_Data','Prepared-Data','orders_products_merged_updated.pkl' ))"
   ]
  },
  {
   "cell_type": "markdown",
   "id": "3726cf41",
   "metadata": {},
   "source": [
    "#8.Save your notebook and submit it to your tutor for review."
   ]
  },
  {
   "cell_type": "markdown",
   "id": "abd9964f",
   "metadata": {},
   "source": [
    "#### Done"
   ]
  },
  {
   "cell_type": "code",
   "execution_count": null,
   "id": "203ae737",
   "metadata": {},
   "outputs": [],
   "source": []
  },
  {
   "cell_type": "code",
   "execution_count": null,
   "id": "a8c2ecb1",
   "metadata": {},
   "outputs": [],
   "source": []
  },
  {
   "cell_type": "code",
   "execution_count": null,
   "id": "f5d0b325",
   "metadata": {},
   "outputs": [],
   "source": []
  },
  {
   "cell_type": "code",
   "execution_count": null,
   "id": "92687041",
   "metadata": {},
   "outputs": [],
   "source": []
  },
  {
   "cell_type": "code",
   "execution_count": null,
   "id": "2dfe1aa2",
   "metadata": {},
   "outputs": [],
   "source": []
  }
 ],
 "metadata": {
  "kernelspec": {
   "display_name": "Python 3 (ipykernel)",
   "language": "python",
   "name": "python3"
  },
  "language_info": {
   "codemirror_mode": {
    "name": "ipython",
    "version": 3
   },
   "file_extension": ".py",
   "mimetype": "text/x-python",
   "name": "python",
   "nbconvert_exporter": "python",
   "pygments_lexer": "ipython3",
   "version": "3.8.8"
  }
 },
 "nbformat": 4,
 "nbformat_minor": 5
}
